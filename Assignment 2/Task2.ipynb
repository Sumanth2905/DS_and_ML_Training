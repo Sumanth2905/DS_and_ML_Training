{
 "cells": [
  {
   "cell_type": "markdown",
   "metadata": {},
   "source": [
    "## Assignment 2"
   ]
  },
  {
   "cell_type": "markdown",
   "metadata": {},
   "source": [
    "#### 1. Is a list mutable? \n",
    "<b>&nbsp;&nbsp;&nbsp;&nbsp;Ans: Yes lists are mutable</b>"
   ]
  },
  {
   "cell_type": "code",
   "execution_count": 2,
   "metadata": {},
   "outputs": [
    {
     "name": "stdout",
     "output_type": "stream",
     "text": [
      "List before changing the element: [1, 1.5, 'Hello', 10]\n",
      "List after changing the element: [5, 1.5, 'Hello', 10]\n"
     ]
    }
   ],
   "source": [
    "#list creation\n",
    "list1 = [1, 1.5, 'Hello', 10]\n",
    "\n",
    "print(f\"List before changing the element: {list1}\")\n",
    "list1[0] = 5\n",
    "print(f\"List after changing the element: {list1}\")"
   ]
  },
  {
   "cell_type": "markdown",
   "metadata": {},
   "source": [
    "#### 2. Does a list need to be homogeneous?\n",
    "<b>&nbsp;&nbsp;&nbsp;&nbsp;Ans: Lists can be either homogeneous or heterogeneous in Python</b>"
   ]
  },
  {
   "cell_type": "markdown",
   "metadata": {},
   "source": [
    "#### 3. What is the difference between a list and a tuple.\n",
    "<b>&nbsp;&nbsp;&nbsp;&nbsp;Ans: </b>\n",
    "\n",
    "| List | Tuple | \n",
    "| -: | -: |\n",
    "| Lists are mutable | Tuples are immutable |\n",
    "| The list is better for performing operations, such as insertion and deletion. | Tuple data type is appropriate for accessing the elements |\n",
    "| Implication of iterations is Time-consuming | The implication of iterations is comparatively Faster |\n",
    "| Lists consume more memory | Tuple consume less memory as compared to the list |"
   ]
  },
  {
   "cell_type": "markdown",
   "metadata": {},
   "source": [
    "#### 4. How to find the number of elements in the list?\n",
    "<b>&nbsp;&nbsp;&nbsp;&nbsp;Ans: We can find the length of the list using a built-in function len() </b>"
   ]
  },
  {
   "cell_type": "code",
   "execution_count": 3,
   "metadata": {},
   "outputs": [
    {
     "name": "stdout",
     "output_type": "stream",
     "text": [
      "List1 : [5, 1.5, 'Hello', 10]\n",
      "Length of above list: 4\n"
     ]
    }
   ],
   "source": [
    "print(f\"List1 : {list1}\")\n",
    "print(f\"Length of above list: {len(list1)}\")"
   ]
  },
  {
   "cell_type": "markdown",
   "metadata": {},
   "source": [
    "#### 5. How to check whether the list is empty or not?\n",
    "<b>&nbsp;&nbsp;&nbsp;&nbsp;Ans: We can check using 3 approaches mentioned below </b>"
   ]
  },
  {
   "cell_type": "code",
   "execution_count": 4,
   "metadata": {},
   "outputs": [
    {
     "name": "stdout",
     "output_type": "stream",
     "text": [
      "The list is empty\n"
     ]
    }
   ],
   "source": [
    "'''\n",
    "Approach 1\n",
    "Using Boolean contest\n",
    "'''\n",
    "\n",
    "list2=[]\n",
    "if not list2:\n",
    "    print(\"The list is empty\")\n",
    "else:\n",
    "    print(\"The list is not empty\")"
   ]
  },
  {
   "cell_type": "code",
   "execution_count": 5,
   "metadata": {},
   "outputs": [
    {
     "name": "stdout",
     "output_type": "stream",
     "text": [
      "The list is empty\n"
     ]
    }
   ],
   "source": [
    "'''\n",
    "Approach 2\n",
    "Using len()\n",
    "'''\n",
    "\n",
    "list2=[]\n",
    "if len(list2)==0:\n",
    "    print(\"The list is empty\")\n",
    "else:\n",
    "    print(\"The list is not empty\")"
   ]
  },
  {
   "cell_type": "code",
   "execution_count": 6,
   "metadata": {},
   "outputs": [
    {
     "name": "stdout",
     "output_type": "stream",
     "text": [
      "The list is empty\n"
     ]
    }
   ],
   "source": [
    "'''\n",
    "Approach 3\n",
    "Using bool()\n",
    "'''\n",
    "\n",
    "list2=[]\n",
    "if bool(list2)==False:\n",
    "    print(\"The list is empty\")\n",
    "else:\n",
    "    print(\"The list is not empty\")"
   ]
  },
  {
   "cell_type": "markdown",
   "metadata": {},
   "source": [
    "#### 6. How to find the first and last element of the list?\n",
    "<b> &nbsp;&nbsp;&nbsp;&nbsp;Ans: We can find first and last element using 3 approaches mentioned below"
   ]
  },
  {
   "cell_type": "code",
   "execution_count": 11,
   "metadata": {},
   "outputs": [
    {
     "name": "stdout",
     "output_type": "stream",
     "text": [
      "List1 : [5, 1.5, 'Hello', 10]\n",
      "First element: 5 \n",
      "Last element : 10\n"
     ]
    }
   ],
   "source": [
    "'''\n",
    "Approach 1: list indexing\n",
    "'''\n",
    "\n",
    "print(f\"List1 : {list1}\")\n",
    "result=[list1[0],list1[-1]]\n",
    "print(f\"First element: {result[0]} \\nLast element : {result[1]}\")"
   ]
  },
  {
   "cell_type": "code",
   "execution_count": 14,
   "metadata": {},
   "outputs": [
    {
     "name": "stdout",
     "output_type": "stream",
     "text": [
      "List1 : [5, 1.5, 'Hello', 10]\n",
      "First element: 5 \n",
      "Last element : 10\n"
     ]
    }
   ],
   "source": [
    "'''\n",
    "Approach 2: list slicing\n",
    "'''\n",
    "\n",
    "print(f\"List1 : {list1}\")\n",
    "result=list1[::len(list1)-1]\n",
    "print(f\"First element: {result[0]} \\nLast element : {result[1]}\")"
   ]
  },
  {
   "cell_type": "code",
   "execution_count": 15,
   "metadata": {},
   "outputs": [
    {
     "name": "stdout",
     "output_type": "stream",
     "text": [
      "List1 : [5, 1.5, 'Hello', 10]\n",
      "First element: 5 \n",
      "Last element : 10\n"
     ]
    }
   ],
   "source": [
    "'''\n",
    "Approach 3: list comprehension\n",
    "'''\n",
    "\n",
    "print(f\"List1 : {list1}\")\n",
    "result=[list1[index] for index in (0,-1)]\n",
    "print(f\"First element: {result[0]} \\nLast element : {result[1]}\")"
   ]
  },
  {
   "cell_type": "markdown",
   "metadata": {},
   "source": [
    "#### 7. How to find the largest and lowest value in the list?\n",
    "<b> &nbsp;&nbsp;&nbsp;&nbsp;Ans: We can find the lowest and largest valu in a list using builtin functions min() and max() </b>"
   ]
  },
  {
   "cell_type": "code",
   "execution_count": 18,
   "metadata": {},
   "outputs": [
    {
     "name": "stdout",
     "output_type": "stream",
     "text": [
      "List: [10, 6, 15, 9, 12]\n",
      "Lowest value: 6 \n",
      "Largest Value: 15\n"
     ]
    }
   ],
   "source": [
    "list3 = [10, 6, 15, 9, 12]\n",
    "print(f\"List: {list3}\")\n",
    "print(f\"Lowest value: {min(list3)} \\nLargest Value: {max(list3)}\")"
   ]
  },
  {
   "cell_type": "markdown",
   "metadata": {},
   "source": [
    "#### 8. How to access elements of the list?\n",
    "<b> &nbsp;&nbsp;&nbsp;&nbsp;Ans: We can select particualar element based on its index values  </b>\n",
    "+ Positive indexing\n",
    " &nbsp;&nbsp;&nbsp;&nbsp;&nbsp;&nbsp;&nbsp;&nbsp;&nbsp;&nbsp;&nbsp;&nbsp;&nbsp;&nbsp;&nbsp;&nbsp;&nbsp;&nbsp;&nbsp; Index values are from 0 to length-1\n",
    "+ Negative indexing\n",
    " &nbsp;&nbsp;&nbsp;&nbsp;&nbsp;&nbsp;&nbsp;&nbsp;&nbsp;&nbsp;&nbsp;&nbsp;&nbsp;&nbsp;&nbsp;&nbsp;&nbsp;&nbsp; Index values starts from -1\n",
    "+ Range of indexes\n",
    " &nbsp;&nbsp;&nbsp;&nbsp;&nbsp;&nbsp;&nbsp;&nbsp;&nbsp;&nbsp;&nbsp;&nbsp;&nbsp;&nbsp;&nbsp;&nbsp;&nbsp;&nbsp;  You can specify a range of indexes by specifying where to start(included) and where to end(not included) the range.\n",
    "+ Range of negative indexes\n",
    " &nbsp;&nbsp;&nbsp;&nbsp; We can give negative range too."
   ]
  },
  {
   "cell_type": "code",
   "execution_count": 19,
   "metadata": {},
   "outputs": [
    {
     "data": {
      "text/plain": [
       "15"
      ]
     },
     "execution_count": 19,
     "metadata": {},
     "output_type": "execute_result"
    }
   ],
   "source": [
    "# Positive index\n",
    "list3[2]"
   ]
  },
  {
   "cell_type": "code",
   "execution_count": 20,
   "metadata": {},
   "outputs": [
    {
     "data": {
      "text/plain": [
       "15"
      ]
     },
     "execution_count": 20,
     "metadata": {},
     "output_type": "execute_result"
    }
   ],
   "source": [
    "# Negetive index\n",
    "list3[-3]"
   ]
  },
  {
   "cell_type": "code",
   "execution_count": 21,
   "metadata": {},
   "outputs": [
    {
     "data": {
      "text/plain": [
       "[6, 15, 9, 12]"
      ]
     },
     "execution_count": 21,
     "metadata": {},
     "output_type": "execute_result"
    }
   ],
   "source": [
    "# Positive range\n",
    "list3[1:5]"
   ]
  },
  {
   "cell_type": "code",
   "execution_count": 22,
   "metadata": {},
   "outputs": [
    {
     "data": {
      "text/plain": [
       "[6, 15, 9]"
      ]
     },
     "execution_count": 22,
     "metadata": {},
     "output_type": "execute_result"
    }
   ],
   "source": [
    "# Negative range\n",
    "list3[-4:-1]"
   ]
  },
  {
   "cell_type": "markdown",
   "metadata": {},
   "source": [
    "#### 9. Remove elements in a list before a specific index\n",
    "<b> &nbsp;&nbsp;&nbsp;&nbsp;Ans: We can use pop() and send the index as a parameter to remove elements </b>"
   ]
  },
  {
   "cell_type": "code",
   "execution_count": 23,
   "metadata": {},
   "outputs": [
    {
     "name": "stdout",
     "output_type": "stream",
     "text": [
      "Original list : ['Jonh', 100, 20.5]\n",
      "List after removing element : ['Jonh', 20.5]\n"
     ]
    }
   ],
   "source": [
    "list4 = ['Jonh', 100, 20.5]\n",
    "print(f\"Original list : {list4}\")\n",
    "list4.pop(1)\n",
    "print(f\"List after removing element : {list4}\")"
   ]
  },
  {
   "cell_type": "markdown",
   "metadata": {},
   "source": [
    "#### 10. Remove elements in a list between 2 indices\n",
    "<b> &nbsp;&nbsp;&nbsp;&nbsp;&nbsp;Ans: We can use del statement for removing items by index or slice </b>"
   ]
  },
  {
   "cell_type": "code",
   "execution_count": 25,
   "metadata": {},
   "outputs": [
    {
     "name": "stdout",
     "output_type": "stream",
     "text": [
      "Before removing: [0, 1, 2, 3, 4, 5, 6, 7, 8, 9]\n",
      "After removing: [0, 1, 2, 3, 8, 9]\n"
     ]
    }
   ],
   "source": [
    "list5 = list(range(10))\n",
    "print(f\"Before removing: {list5}\")\n",
    "del list5[4:8]\n",
    "print(f\"After removing: {list5}\")"
   ]
  },
  {
   "cell_type": "markdown",
   "metadata": {},
   "source": [
    "#### 11. Return every 2nd element in a list between 2 indices\n",
    "<b> &nbsp;&nbsp;&nbsp;&nbsp;&nbsp;Ans: we can do that by giving step while slicing </b>"
   ]
  },
  {
   "cell_type": "code",
   "execution_count": 31,
   "metadata": {},
   "outputs": [
    {
     "name": "stdout",
     "output_type": "stream",
     "text": [
      "Original list: [2, 3, 4, 5, 6, 7, 8, 9]\n",
      "Every second element in between 0, 6 : [2, 4]\n"
     ]
    }
   ],
   "source": [
    "list5 = list(range(2, 10))\n",
    "print(f\"Original list: {list5}\")\n",
    "print(f\"Every second element in between 0, 6 : {list5[0:4:2]}\")"
   ]
  },
  {
   "cell_type": "markdown",
   "metadata": {},
   "source": [
    "#### 12. Get the first element from each nested list in a list\n",
    "<b> &nbsp;&nbsp;&nbsp;&nbsp;&nbsp;Ans:</b>"
   ]
  },
  {
   "cell_type": "code",
   "execution_count": 32,
   "metadata": {},
   "outputs": [
    {
     "name": "stdout",
     "output_type": "stream",
     "text": [
      "[1, 3, 6]\n"
     ]
    }
   ],
   "source": [
    "lst = [[1, 2], [3, 4, 5], [6, 7, 8, 9]]\n",
    "res = [item[0] for item in lst]\n",
    "print(res)"
   ]
  },
  {
   "cell_type": "markdown",
   "metadata": {},
   "source": [
    "#### 13. How to modify elements of the list?\n",
    "<b> &nbsp;&nbsp;&nbsp;&nbsp;&nbsp;Ans:</b>"
   ]
  },
  {
   "cell_type": "code",
   "execution_count": 33,
   "metadata": {},
   "outputs": [
    {
     "name": "stdout",
     "output_type": "stream",
     "text": [
      "Before modification: ['Jonh', 100, 20.5]\n",
      "After modification: [10, 100, 20.5]\n"
     ]
    }
   ],
   "source": [
    "lst = ['Jonh', 100, 20.5]\n",
    "print(f\"Before modification: {lst}\")\n",
    "lst[0] = 10\n",
    "print(f\"After modification: {lst}\")"
   ]
  },
  {
   "cell_type": "markdown",
   "metadata": {},
   "source": [
    "#### 14. How to concatenate two lists?\n",
    "<b> &nbsp;&nbsp;&nbsp;&nbsp;&nbsp;Ans:</b>"
   ]
  },
  {
   "cell_type": "code",
   "execution_count": 34,
   "metadata": {},
   "outputs": [
    {
     "name": "stdout",
     "output_type": "stream",
     "text": [
      "List1: [1, 2, 3]\n",
      "List2: [1, 10, 5]\n",
      "Concatenated list: [1, 2, 3, 1, 10, 5]\n"
     ]
    }
   ],
   "source": [
    "list_1 = [1, 2, 3]\n",
    "list_2 = [1, 10, 5]\n",
    "print(f\"List1: {list_1}\")\n",
    "print(f\"List2: {list_2}\")\n",
    "print(f\"Concatenated list: {list_1 + list_2}\")"
   ]
  },
  {
   "cell_type": "markdown",
   "metadata": {},
   "source": [
    "#### 15.How to add two lists element-wise in python?\n",
    "<b> &nbsp;&nbsp;&nbsp;&nbsp;&nbsp;Ans:</b>"
   ]
  },
  {
   "cell_type": "code",
   "execution_count": 36,
   "metadata": {},
   "outputs": [
    {
     "name": "stdout",
     "output_type": "stream",
     "text": [
      "List1: [1, 2, 3]\n",
      "List2: [1, 10, 5]\n",
      "Concatenated list: [2, 12, 8]\n"
     ]
    }
   ],
   "source": [
    "# using zip()\n",
    "print(f\"List1: {list_1}\")\n",
    "print(f\"List2: {list_2}\")\n",
    "res = [i + j for i, j in zip(list_1, list_2)]\n",
    "print(f\"Concatenated list: {res}\")"
   ]
  },
  {
   "cell_type": "markdown",
   "metadata": {},
   "source": [
    "#### 16. Difference between del and clear?\n",
    "<b> &nbsp;&nbsp;&nbsp;&nbsp;&nbsp;Ans:</b>\n",
    "\n",
    "| del | clear() |\n",
    "| :- | :- |\n",
    "| Remove items by index or slice| Remove all items |\n",
    "| On applying with list name deletes that list| On applying with list name makes the list empty|"
   ]
  },
  {
   "cell_type": "markdown",
   "metadata": {},
   "source": [
    "#### 17. Difference between remove and pop?\n",
    "<b> &nbsp;&nbsp;&nbsp;&nbsp;&nbsp;Ans:</b>\n",
    "\n",
    "| remove() | pop() |\n",
    "| :- | :- |\n",
    "| To delete value this method uses the value as a parameter| This method also uses the index as a parameter to delete |\n",
    "| The remove() method doesn’t return any value | pop() returns deleted value |\n",
    "| It throws value error in case of value doesn’t exist in the list | It throws index error in case of an index doesn’t exist in the list |"
   ]
  },
  {
   "cell_type": "markdown",
   "metadata": {},
   "source": [
    "#### 18. Difference between append and extend?\n",
    "<b> &nbsp;&nbsp;&nbsp;&nbsp;&nbsp;Ans:</b>\n",
    "\n",
    "| append() | extend() |\n",
    "| :- | :- |\n",
    "| Adds its argument as a single element to the end of a list | Iterates over its argument and adding each element to the list and extending the list |\n",
    "| The length of the list increases by one | The length of the list increases by number of elements in it’s argument |"
   ]
  },
  {
   "cell_type": "markdown",
   "metadata": {},
   "source": [
    "#### 19. Difference between indexing and Slicing?\n",
    "<b> &nbsp;&nbsp;&nbsp;&nbsp;&nbsp;Ans:</b>\n",
    "\n",
    "| Indexing | Slicing |\n",
    "| :- | :- |\n",
    "| It means referring to an element of an iterable by its position within the iterable | It means getting a subset of elements from an iterable based on their indices |"
   ]
  },
  {
   "cell_type": "markdown",
   "metadata": {},
   "source": [
    "#### 20. Difference between sort and sorted?\n",
    "<b> &nbsp;&nbsp;&nbsp;&nbsp;&nbsp;Ans:</b>\n",
    "\n",
    "| sort() | sorted() |\n",
    "| :- | :- |\n",
    "| It will modify the list it is called on | It will create a new list containing a sorted version of the list it is given |\n",
    "| No return value | It returns a sorted list |"
   ]
  },
  {
   "cell_type": "markdown",
   "metadata": {},
   "source": [
    "#### 21. Difference between reverse and reversed?\n",
    "<b> &nbsp;&nbsp;&nbsp;&nbsp;&nbsp;Ans:</b>\n",
    "\n",
    "| reverse() | reversed() |\n",
    "| :- | :- |\n",
    "| The reverse() method doesn't take any arguments. | The reversed() function takes a single parameter |\n",
    "| The reverse() method doesn't return any value. It updates the existing list. | The reversed() function returns an iterator that accesses the given sequence in the reverse order. |"
   ]
  },
  {
   "cell_type": "markdown",
   "metadata": {},
   "source": [
    "#### 22. Difference between copy and deepcopy?\n",
    "<b> &nbsp;&nbsp;&nbsp;&nbsp;&nbsp;Ans:</b>\n",
    "\n",
    "| copy | deepcopy |\n",
    "| :- | :- |\n",
    "| In Python, we use = operator to create a copy of an object. You may think that this creates a new object; it doesn't. It only creates a new variable that shares the reference of the original object. | A deep copy creates a new object and recursively adds the copies of nested objects present in the original elements. Changes in the original object will not be reflected on the new object |"
   ]
  },
  {
   "cell_type": "markdown",
   "metadata": {},
   "source": [
    "#### 23. How to remove duplicate elements in the list?\n",
    "<b> &nbsp;&nbsp;&nbsp;&nbsp;&nbsp;Ans: Using set data structure we can remove duplicate elements in a list</b>"
   ]
  },
  {
   "cell_type": "markdown",
   "metadata": {},
   "source": [
    "#### 24. How to find an index of an element in the python list?\n",
    "<b> &nbsp;&nbsp;&nbsp;&nbsp;&nbsp;Ans: The index() method returns the index of the specified element in the list.</b>"
   ]
  },
  {
   "cell_type": "markdown",
   "metadata": {},
   "source": [
    "#### 25. How to find the occurrences of an element in the python list?\n",
    "<b> &nbsp;&nbsp;&nbsp;&nbsp;&nbsp;Ans: The count() method returns the number of times element appears in the list.</b>"
   ]
  },
  {
   "cell_type": "markdown",
   "metadata": {},
   "source": [
    "#### 26. How to insert an item at a given position?\n",
    "<b> &nbsp;&nbsp;&nbsp;&nbsp;&nbsp;Ans: insert() is an inbuilt function in Python that inserts a given element at a given index in a list.</b>"
   ]
  },
  {
   "cell_type": "markdown",
   "metadata": {},
   "source": [
    "#### 27. How to check if an item is in the list?\n",
    "<b> &nbsp;&nbsp;&nbsp;&nbsp;&nbsp;Ans: Python *in* is the most conventional way to check if an element exists in list or not. This particular way returns True if element exists in list and False if the element does not exists in list.</b>"
   ]
  },
  {
   "cell_type": "markdown",
   "metadata": {},
   "source": [
    "#### 28. How to flatten a list in python?\n",
    "<b> &nbsp;&nbsp;&nbsp;&nbsp;&nbsp;Ans: </b>"
   ]
  },
  {
   "cell_type": "code",
   "execution_count": 1,
   "metadata": {},
   "outputs": [
    {
     "name": "stdout",
     "output_type": "stream",
     "text": [
      "Original list [[1, 2, 3, 4], [5, 6, 7], [8, 9]]\n",
      "Transformed list [1, 2, 3, 4, 5, 6, 7, 8, 9]\n"
     ]
    }
   ],
   "source": [
    "regular_list = [[1, 2, 3, 4], [5, 6, 7], [8, 9]]\n",
    "flat_list = [item for sublist in regular_list for item in sublist]\n",
    "print('Original list', regular_list)\n",
    "print('Transformed list', flat_list)"
   ]
  },
  {
   "cell_type": "markdown",
   "metadata": {},
   "source": [
    "#### 29. How to convert python list to other data structures like set, tuple, dictionary?\n",
    "<b> &nbsp;&nbsp;&nbsp;&nbsp;&nbsp;Ans: </b>"
   ]
  },
  {
   "cell_type": "code",
   "execution_count": 2,
   "metadata": {},
   "outputs": [
    {
     "data": {
      "text/plain": [
       "set"
      ]
     },
     "execution_count": 2,
     "metadata": {},
     "output_type": "execute_result"
    }
   ],
   "source": [
    "list1 = [1, 2, 3]\n",
    "type(set(list1))"
   ]
  },
  {
   "cell_type": "code",
   "execution_count": 3,
   "metadata": {},
   "outputs": [
    {
     "data": {
      "text/plain": [
       "tuple"
      ]
     },
     "execution_count": 3,
     "metadata": {},
     "output_type": "execute_result"
    }
   ],
   "source": [
    "type(tuple(list1))"
   ]
  },
  {
   "cell_type": "code",
   "execution_count": 4,
   "metadata": {},
   "outputs": [
    {
     "data": {
      "text/plain": [
       "dict"
      ]
     },
     "execution_count": 4,
     "metadata": {},
     "output_type": "execute_result"
    }
   ],
   "source": [
    "d = {\"Values\" : list1}\n",
    "type(d)"
   ]
  },
  {
   "cell_type": "code",
   "execution_count": 5,
   "metadata": {},
   "outputs": [],
   "source": [
    "def list_to_dict(key_list, value_list):\n",
    "    my_dict = {}\n",
    "    for i in range (0, len(key_list)):\n",
    "        my_dict[key_list[i]] = value_list[i]\n",
    "        \n",
    "    return my_dict"
   ]
  },
  {
   "cell_type": "code",
   "execution_count": 6,
   "metadata": {},
   "outputs": [
    {
     "data": {
      "text/plain": [
       "{'a': 1, 'b': 2, 'c': 3}"
      ]
     },
     "execution_count": 6,
     "metadata": {},
     "output_type": "execute_result"
    }
   ],
   "source": [
    "list_to_dict(['a', 'b', 'c'],[1, 2, 3])"
   ]
  },
  {
   "cell_type": "markdown",
   "metadata": {},
   "source": [
    "#### 30. How to apply a function to all items in the list?\n",
    "<b> &nbsp;&nbsp;&nbsp;&nbsp;&nbsp;Ans: </b>"
   ]
  },
  {
   "cell_type": "code",
   "execution_count": 8,
   "metadata": {},
   "outputs": [
    {
     "name": "stdout",
     "output_type": "stream",
     "text": [
      "Original list: [1, 5, 10, 13]\n",
      "List after modification: [1, 25, 100, 169]\n"
     ]
    }
   ],
   "source": [
    "def square(x):\n",
    "    return x**2\n",
    "\n",
    "list1 = [1, 5, 10, 13]\n",
    "print(f\"Original list: {list1}\")\n",
    "res = [square(item) for item in list1]\n",
    "print(f\"List after modification: {res}\")"
   ]
  },
  {
   "cell_type": "markdown",
   "metadata": {},
   "source": [
    "#### 31. How to filter the elements based on a function in a python list?\n",
    "<b> &nbsp;&nbsp;&nbsp;&nbsp;&nbsp;Ans: </b>"
   ]
  },
  {
   "cell_type": "code",
   "execution_count": 12,
   "metadata": {},
   "outputs": [
    {
     "name": "stdout",
     "output_type": "stream",
     "text": [
      "Filtered list: [15, 19, 25]\n"
     ]
    }
   ],
   "source": [
    "list2 = [10, 1, 7, 15, 6, 19, 25]\n",
    "\n",
    "# using filter and lambda function\n",
    "filtered_list = filter(lambda num: num > 10,list2)\n",
    "print(f\"Filtered list: {list(filtered_list)}\")"
   ]
  },
  {
   "cell_type": "markdown",
   "metadata": {},
   "source": [
    "#### 32. How python lists are stored in memory?\n",
    "<b> &nbsp;&nbsp;&nbsp;&nbsp;&nbsp;Ans: The list objects consists of two internal parts: one object header and seperately allocated array of object reference. </b>"
   ]
  },
  {
   "cell_type": "code",
   "execution_count": null,
   "metadata": {},
   "outputs": [],
   "source": []
  }
 ],
 "metadata": {
  "kernelspec": {
   "display_name": "Python 3",
   "language": "python",
   "name": "python3"
  },
  "language_info": {
   "codemirror_mode": {
    "name": "ipython",
    "version": 3
   },
   "file_extension": ".py",
   "mimetype": "text/x-python",
   "name": "python",
   "nbconvert_exporter": "python",
   "pygments_lexer": "ipython3",
   "version": "3.7.6"
  }
 },
 "nbformat": 4,
 "nbformat_minor": 4
}
