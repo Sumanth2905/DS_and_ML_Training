{
 "cells": [
  {
   "cell_type": "markdown",
   "metadata": {
    "id": "Yyiw75SHZBVU"
   },
   "source": [
    "# ID : GO_STP_11068\n"
   ]
  },
  {
   "cell_type": "markdown",
   "metadata": {
    "id": "a1WePBFMYnSD"
   },
   "source": [
    "# Assignment/Task 4\n",
    "\n",
    "Question on Numpy-"
   ]
  },
  {
   "cell_type": "markdown",
   "metadata": {
    "id": "4ZsGZWYqZXxG"
   },
   "source": [
    "1. Import the numpy package under the name np and Print the numpy version and the configuration "
   ]
  },
  {
   "cell_type": "code",
   "execution_count": 1,
   "metadata": {
    "colab": {
     "base_uri": "https://localhost:8080/",
     "height": 35
    },
    "id": "bbMpEkuVYzCy",
    "outputId": "5df19dfc-8576-4c1f-d294-c0955ef0b96e"
   },
   "outputs": [
    {
     "name": "stdout",
     "output_type": "stream",
     "text": [
      "1.18.1\n",
      "<module 'numpy.__config__' from 'C:\\\\ProgramData\\\\Anaconda3\\\\lib\\\\site-packages\\\\numpy\\\\__config__.py'>\n"
     ]
    }
   ],
   "source": [
    "import numpy as np\n",
    "print(np.__version__)\n",
    "print(np.__config__)"
   ]
  },
  {
   "cell_type": "markdown",
   "metadata": {
    "id": "Hi2NQxkta4Yz"
   },
   "source": [
    "2. Create a null vector of size 10"
   ]
  },
  {
   "cell_type": "code",
   "execution_count": 2,
   "metadata": {
    "colab": {
     "base_uri": "https://localhost:8080/"
    },
    "id": "z9g7qBjqZfRJ",
    "outputId": "9faeb8bd-ba04-49ec-c7b5-f96a9730aa56"
   },
   "outputs": [
    {
     "data": {
      "text/plain": [
       "array([0., 0., 0., 0., 0., 0., 0., 0., 0., 0.])"
      ]
     },
     "execution_count": 2,
     "metadata": {},
     "output_type": "execute_result"
    }
   ],
   "source": [
    "a = np.zeros(10)\n",
    "a"
   ]
  },
  {
   "cell_type": "markdown",
   "metadata": {
    "id": "GQ1pSeUHbVZN"
   },
   "source": [
    "3. Create Simple 1-D array and check type and check data types in array"
   ]
  },
  {
   "cell_type": "code",
   "execution_count": 3,
   "metadata": {
    "colab": {
     "base_uri": "https://localhost:8080/"
    },
    "id": "BHWPi8-MZ9Re",
    "outputId": "97cee43d-03d9-44c8-9d4d-fa5d08500aff"
   },
   "outputs": [
    {
     "name": "stdout",
     "output_type": "stream",
     "text": [
      "[1 2 3 4 5]\n",
      "<class 'numpy.ndarray'>\n",
      "int32\n"
     ]
    }
   ],
   "source": [
    "a = np.array([1, 2, 3, 4, 5])\n",
    "print(a)\n",
    "print(type(a))\n",
    "print(a.dtype)"
   ]
  },
  {
   "cell_type": "markdown",
   "metadata": {
    "id": "uIcy5PQAcNJn"
   },
   "source": [
    "4. How to find number of dimensions, bytes per element and bytes of memory used?"
   ]
  },
  {
   "cell_type": "code",
   "execution_count": 4,
   "metadata": {
    "colab": {
     "base_uri": "https://localhost:8080/"
    },
    "id": "DfK6szp2b4eG",
    "outputId": "b642a100-c3a6-4b3f-966b-792d091aa17d"
   },
   "outputs": [
    {
     "name": "stdout",
     "output_type": "stream",
     "text": [
      "1\n",
      "4\n",
      "5\n",
      "20\n"
     ]
    }
   ],
   "source": [
    "# import sys\n",
    "a = np.array([1, 2, 3, 4, 5])\n",
    "print(a.ndim)\n",
    "print(a.itemsize)\n",
    "print(a.size)\n",
    "print(a.size*a.itemsize)"
   ]
  },
  {
   "cell_type": "markdown",
   "metadata": {
    "id": "HF_NX6YYdpwa"
   },
   "source": [
    "5. Create a null vector of size 10 but the fifth value which is 1"
   ]
  },
  {
   "cell_type": "code",
   "execution_count": 5,
   "metadata": {
    "colab": {
     "base_uri": "https://localhost:8080/"
    },
    "id": "apAybYGBcu3d",
    "outputId": "19160f8c-6401-46cd-bbc9-3e6e7d107a20"
   },
   "outputs": [
    {
     "data": {
      "text/plain": [
       "array([0., 0., 0., 0., 1., 0., 0., 0., 0., 0.])"
      ]
     },
     "execution_count": 5,
     "metadata": {},
     "output_type": "execute_result"
    }
   ],
   "source": [
    "a = np.zeros(10)\n",
    "a[4] = 1\n",
    "a"
   ]
  },
  {
   "cell_type": "markdown",
   "metadata": {
    "id": "pQFHeJA3fd4V"
   },
   "source": [
    "6. Create a vector with values ranging from 10 to 49"
   ]
  },
  {
   "cell_type": "code",
   "execution_count": 6,
   "metadata": {
    "colab": {
     "base_uri": "https://localhost:8080/"
    },
    "id": "ZPQg2YXTfM2c",
    "outputId": "a5ddcbf2-35f4-45e2-ba1b-52012d01f92f"
   },
   "outputs": [
    {
     "data": {
      "text/plain": [
       "array([10, 11, 12, 13, 14, 15, 16, 17, 18, 19, 20, 21, 22, 23, 24, 25, 26,\n",
       "       27, 28, 29, 30, 31, 32, 33, 34, 35, 36, 37, 38, 39, 40, 41, 42, 43,\n",
       "       44, 45, 46, 47, 48, 49])"
      ]
     },
     "execution_count": 6,
     "metadata": {},
     "output_type": "execute_result"
    }
   ],
   "source": [
    "a = np.arange(10, 50)\n",
    "a"
   ]
  },
  {
   "cell_type": "markdown",
   "metadata": {
    "id": "ipK1LrX2fsr2"
   },
   "source": []
  },
  {
   "cell_type": "markdown",
   "metadata": {
    "id": "wFBu2u8ifxeI"
   },
   "source": [
    "7. Reverse a vector (first element becomes last)"
   ]
  },
  {
   "cell_type": "code",
   "execution_count": 7,
   "metadata": {
    "colab": {
     "base_uri": "https://localhost:8080/"
    },
    "id": "5lVH_Is7flRs",
    "outputId": "40193e31-8943-4ed1-b108-1dca9d4075f0"
   },
   "outputs": [
    {
     "name": "stdout",
     "output_type": "stream",
     "text": [
      "Original vector: [0 1 2 3 4 5 6 7 8 9]\n",
      "Reverse of vector: [9 8 7 6 5 4 3 2 1 0]\n"
     ]
    }
   ],
   "source": [
    "a = np.arange(10)\n",
    "print(f\"Original vector: {a}\")\n",
    "print(f\"Reverse of vector: {a[::-1]}\")"
   ]
  },
  {
   "cell_type": "markdown",
   "metadata": {
    "id": "nh8SZEmohAHZ"
   },
   "source": [
    "8. Create a 3x3 matrix with values ranging from 0 to 8"
   ]
  },
  {
   "cell_type": "code",
   "execution_count": 8,
   "metadata": {
    "colab": {
     "base_uri": "https://localhost:8080/"
    },
    "id": "8JPWbwSNgATB",
    "outputId": "b3a13f58-3ba2-4bf4-fa22-df2898a216bd"
   },
   "outputs": [
    {
     "name": "stdout",
     "output_type": "stream",
     "text": [
      "[[0 1 2]\n",
      " [3 4 5]\n",
      " [6 7 8]]\n"
     ]
    }
   ],
   "source": [
    "a = np.arange(9)\n",
    "print(a.reshape(3,3))"
   ]
  },
  {
   "cell_type": "markdown",
   "metadata": {
    "id": "6q3HyjBVhXaH"
   },
   "source": [
    "9. Find indices of non-zero elements from [1,2,0,0,4,0]"
   ]
  },
  {
   "cell_type": "code",
   "execution_count": 9,
   "metadata": {
    "colab": {
     "base_uri": "https://localhost:8080/"
    },
    "id": "CQlapyZEhKYM",
    "outputId": "8e8d3aa9-3153-42a8-c89b-532e4218606c"
   },
   "outputs": [
    {
     "data": {
      "text/plain": [
       "(array([0, 1, 4], dtype=int64),)"
      ]
     },
     "execution_count": 9,
     "metadata": {},
     "output_type": "execute_result"
    }
   ],
   "source": [
    "a = np.array([1,2,0,0,4,0])\n",
    "np.where(a!=0)"
   ]
  },
  {
   "cell_type": "markdown",
   "metadata": {
    "id": "mPFW_-lxkqrv"
   },
   "source": [
    "10. Create a 3x3 identity matrix"
   ]
  },
  {
   "cell_type": "code",
   "execution_count": 10,
   "metadata": {
    "colab": {
     "base_uri": "https://localhost:8080/"
    },
    "id": "3lBVDfW1heT5",
    "outputId": "29cfa902-dab6-4b7a-eddd-4fbe389db79d"
   },
   "outputs": [
    {
     "name": "stdout",
     "output_type": "stream",
     "text": [
      "[[1. 0. 0.]\n",
      " [0. 1. 0.]\n",
      " [0. 0. 1.]]\n"
     ]
    }
   ],
   "source": [
    "print(np.eye(3))"
   ]
  },
  {
   "cell_type": "code",
   "execution_count": 11,
   "metadata": {
    "colab": {
     "base_uri": "https://localhost:8080/"
    },
    "id": "Yg9cpngzFJdd",
    "outputId": "443c85e8-52f4-4dfd-babe-dff068fe6c03"
   },
   "outputs": [
    {
     "name": "stdout",
     "output_type": "stream",
     "text": [
      "[[1. 0. 0.]\n",
      " [0. 1. 0.]\n",
      " [0. 0. 1.]]\n"
     ]
    }
   ],
   "source": [
    "print(np.identity(3))"
   ]
  },
  {
   "cell_type": "markdown",
   "metadata": {
    "id": "_ZVclZfMk32Z"
   },
   "source": [
    "11. Create a 3x3x3 array with random values"
   ]
  },
  {
   "cell_type": "code",
   "execution_count": 12,
   "metadata": {
    "colab": {
     "base_uri": "https://localhost:8080/"
    },
    "id": "M4GtHR8GkxT3",
    "outputId": "9f80f0f4-f384-4eca-9ec7-ddb6ee889960"
   },
   "outputs": [
    {
     "data": {
      "text/plain": [
       "array([[[0.26968026, 0.50574536, 0.26752136],\n",
       "        [0.93461037, 0.51623604, 0.35911197],\n",
       "        [0.34667409, 0.31965737, 0.80725894]],\n",
       "\n",
       "       [[0.34580455, 0.91633797, 0.40796484],\n",
       "        [0.38274672, 0.84610932, 0.58581958],\n",
       "        [0.46420637, 0.41876918, 0.54169911]],\n",
       "\n",
       "       [[0.22361167, 0.85255047, 0.71002673],\n",
       "        [0.87702936, 0.48080638, 0.88916868],\n",
       "        [0.23171284, 0.77392313, 0.55072222]]])"
      ]
     },
     "execution_count": 12,
     "metadata": {},
     "output_type": "execute_result"
    }
   ],
   "source": [
    "import random\n",
    "\n",
    "a = np.random.random((3,3,3))\n",
    "a"
   ]
  },
  {
   "cell_type": "markdown",
   "metadata": {
    "id": "5--OSDh6lumx"
   },
   "source": [
    "12. Create a 10x10 array with random values and find the minimum and maximum values"
   ]
  },
  {
   "cell_type": "code",
   "execution_count": 13,
   "metadata": {
    "colab": {
     "base_uri": "https://localhost:8080/"
    },
    "id": "GQsFWT_VlT9X",
    "outputId": "046b2e38-00af-4794-a021-d27730af9049"
   },
   "outputs": [
    {
     "name": "stdout",
     "output_type": "stream",
     "text": [
      "[[0.35453476 0.24616627 0.02287666 0.69299456 0.95395328 0.92541932\n",
      "  0.50535024 0.65724383 0.37699728 0.12186795]\n",
      " [0.21385658 0.53243283 0.87670133 0.42071399 0.46826269 0.44888598\n",
      "  0.80594684 0.65580217 0.44645688 0.54534003]\n",
      " [0.3130684  0.13902219 0.29461845 0.64909552 0.2195401  0.7926637\n",
      "  0.23327304 0.86169722 0.47904544 0.68444657]\n",
      " [0.90185483 0.54250333 0.08047799 0.31832721 0.49866458 0.14955347\n",
      "  0.00427006 0.50279615 0.6391077  0.63013498]\n",
      " [0.54772024 0.3938548  0.2660164  0.53978087 0.1720643  0.51536932\n",
      "  0.7222187  0.51256888 0.90959989 0.77869239]\n",
      " [0.58026192 0.52895041 0.29174192 0.94133237 0.49967512 0.0242307\n",
      "  0.13860286 0.66470495 0.42432879 0.73830532]\n",
      " [0.60623303 0.35385013 0.39466469 0.05920096 0.80330877 0.12826406\n",
      "  0.37893743 0.45645274 0.24741182 0.60419164]\n",
      " [0.58636603 0.56422281 0.06359022 0.67899791 0.37410007 0.34024071\n",
      "  0.9192628  0.17161831 0.94307967 0.54698328]\n",
      " [0.50179727 0.49193906 0.73847056 0.04214791 0.43965233 0.10421497\n",
      "  0.36232046 0.02819499 0.98228237 0.11710224]\n",
      " [0.15184419 0.03835727 0.57818826 0.97634378 0.9656833  0.54271193\n",
      "  0.17286273 0.59262896 0.83784971 0.16893808]]\n",
      "Maximum value: 0.9822823652069799 \n",
      "Minimum value: 0.004270057949556705\n"
     ]
    }
   ],
   "source": [
    "import random\n",
    "a = np.random.random((10,10))\n",
    "print(a)\n",
    "print(f\"Maximum value: {a.max()} \\nMinimum value: {a.min()}\")"
   ]
  },
  {
   "cell_type": "markdown",
   "metadata": {
    "id": "AMwpX4U5mO3z"
   },
   "source": [
    "13. Create a random vector of size 30 and find the mean value"
   ]
  },
  {
   "cell_type": "code",
   "execution_count": 14,
   "metadata": {
    "colab": {
     "base_uri": "https://localhost:8080/"
    },
    "id": "GXPVvIkll7tf",
    "outputId": "a54d2daa-f147-485d-b295-1b5c20e8ea7a"
   },
   "outputs": [
    {
     "name": "stdout",
     "output_type": "stream",
     "text": [
      "[0.55031681 0.27576009 0.54444712 0.55586246 0.93119429 0.54035743\n",
      " 0.23018868 0.68975287 0.79904013 0.77080723 0.57295429 0.18862156\n",
      " 0.4473611  0.54982863 0.49354872 0.29965786 0.73880818 0.09335951\n",
      " 0.21048543 0.88249206 0.9948208  0.67601753 0.54242345 0.07775966\n",
      " 0.89605754 0.09521063 0.35803255 0.69765943 0.43019451 0.84246756]\n",
      "Mean: 0.5325162699342745\n"
     ]
    }
   ],
   "source": [
    "import random\n",
    "a = np.random.random(30)\n",
    "print(a)\n",
    "print(f\"Mean: {a.mean()}\")"
   ]
  },
  {
   "cell_type": "markdown",
   "metadata": {
    "id": "_Sz-hZ1xmitl"
   },
   "source": [
    "14 . Create a 2d array with 1 on the border and 0 inside"
   ]
  },
  {
   "cell_type": "code",
   "execution_count": 15,
   "metadata": {
    "colab": {
     "base_uri": "https://localhost:8080/"
    },
    "id": "fNZL-mBnmYLf",
    "outputId": "211369e7-b3f8-44b7-bd7c-985b2b53f6dc"
   },
   "outputs": [
    {
     "name": "stdout",
     "output_type": "stream",
     "text": [
      "Original matrix:\n",
      " [[1. 1. 1. 1. 1. 1.]\n",
      " [1. 1. 1. 1. 1. 1.]\n",
      " [1. 1. 1. 1. 1. 1.]\n",
      " [1. 1. 1. 1. 1. 1.]\n",
      " [1. 1. 1. 1. 1. 1.]]\n",
      "\n",
      "Matrix after modification:\n",
      " [[1. 1. 1. 1. 1. 1.]\n",
      " [1. 0. 0. 0. 0. 1.]\n",
      " [1. 0. 0. 0. 0. 1.]\n",
      " [1. 0. 0. 0. 0. 1.]\n",
      " [1. 1. 1. 1. 1. 1.]]\n"
     ]
    }
   ],
   "source": [
    "a = np.ones((5,6))\n",
    "print(f\"Original matrix:\\n {a}\")\n",
    "a[1:-1,1:-1] = 0\n",
    "print(f\"\\nMatrix after modification:\\n {a}\")"
   ]
  },
  {
   "cell_type": "markdown",
   "metadata": {
    "id": "GaOrsgKMqYvu"
   },
   "source": [
    "15. How to add a border (filled with 0's) around an existing array? "
   ]
  },
  {
   "cell_type": "code",
   "execution_count": 16,
   "metadata": {
    "colab": {
     "base_uri": "https://localhost:8080/"
    },
    "id": "lkq6TVGqnUiN",
    "outputId": "e8f36928-0442-45ad-93f0-27c8456e2487"
   },
   "outputs": [
    {
     "name": "stdout",
     "output_type": "stream",
     "text": [
      "[[1. 1. 1.]\n",
      " [1. 1. 1.]\n",
      " [1. 1. 1.]] \n",
      "\n",
      "\n",
      "[[0. 0. 0. 0. 0.]\n",
      " [0. 1. 1. 1. 0.]\n",
      " [0. 1. 1. 1. 0.]\n",
      " [0. 1. 1. 1. 0.]\n",
      " [0. 0. 0. 0. 0.]]\n"
     ]
    }
   ],
   "source": [
    "import numpy as np\n",
    "a = np.ones((3,3))\n",
    "print(a,\"\\n\\n\")\n",
    "a = np.pad(a, pad_width=1, mode='constant', constant_values=0)\n",
    "print(a)"
   ]
  },
  {
   "cell_type": "markdown",
   "metadata": {
    "id": "9-_onX2xsVzT"
   },
   "source": [
    "# 16. How to Accessing/Changing specific elements, rows, columns, etc in Numpy array?    \n",
    "Example -\n",
    "[[ 1 2 3 4 5 6 7] [ 8 9 10 11 12 13 14]]  \n",
    "\n",
    "Get 13, get first row only, get 3rd column only, get [2, 4, 6], replace 13 by 20"
   ]
  },
  {
   "cell_type": "code",
   "execution_count": 17,
   "metadata": {
    "colab": {
     "base_uri": "https://localhost:8080/"
    },
    "id": "r22jirZ-q86j",
    "outputId": "60d6efbe-927a-483f-db41-d2b6979dd882"
   },
   "outputs": [
    {
     "data": {
      "text/plain": [
       "[[1, 2, 3, 4, 5, 6, 7], [8, 9, 10, 11, 12, 20, 14]]"
      ]
     },
     "execution_count": 17,
     "metadata": {},
     "output_type": "execute_result"
    }
   ],
   "source": [
    "a = [[1, 2, 3, 4, 5, 6, 7],[8, 9, 10, 11, 12, 13, 14]]\n",
    "a[1][5] = 20\n",
    "a"
   ]
  },
  {
   "cell_type": "markdown",
   "metadata": {
    "id": "j_1KpOqCtUrA"
   },
   "source": [
    "17. How to Convert a 1D array to a 2D array with 2 rows"
   ]
  },
  {
   "cell_type": "code",
   "execution_count": 18,
   "metadata": {
    "colab": {
     "base_uri": "https://localhost:8080/"
    },
    "id": "rGWNPWGhsw7z",
    "outputId": "24bfb6ad-49e2-4755-c649-5e3e28202ceb"
   },
   "outputs": [
    {
     "data": {
      "text/plain": [
       "array([[0, 1, 2, 3, 4],\n",
       "       [5, 6, 7, 8, 9]])"
      ]
     },
     "execution_count": 18,
     "metadata": {},
     "output_type": "execute_result"
    }
   ],
   "source": [
    "a = np.arange(10)\n",
    "a.reshape(2,5)"
   ]
  },
  {
   "cell_type": "markdown",
   "metadata": {
    "id": "FiwEiDA3x3QG"
   },
   "source": [
    "Create the following pattern without hardcoding. Use only numpy functions and the below input array a.  \n",
    "Input:\n",
    "\n",
    "a = np.array([1,2,3])`\n",
    "\n",
    "Desired Output:\n",
    "\n",
    "array([1, 1, 1, 2, 2, 2, 3, 3, 3, 1, 2, 3, 1, 2, 3, 1, 2, 3])"
   ]
  },
  {
   "cell_type": "code",
   "execution_count": 19,
   "metadata": {
    "colab": {
     "base_uri": "https://localhost:8080/"
    },
    "id": "x-HiotD_xt1b",
    "outputId": "10e79c2e-2c2c-460a-801d-865b26d1c2ca"
   },
   "outputs": [
    {
     "data": {
      "text/plain": [
       "array([1, 1, 1, 2, 2, 2, 3, 3, 3, 1, 2, 3, 1, 2, 3, 1, 2, 3])"
      ]
     },
     "execution_count": 19,
     "metadata": {},
     "output_type": "execute_result"
    }
   ],
   "source": [
    "a = np.array([1,2,3])\n",
    "a = np.append(np.repeat(a,3),np.tile(a,3))\n",
    "a"
   ]
  },
  {
   "cell_type": "markdown",
   "metadata": {
    "id": "3MQ-mA8I1C4P"
   },
   "source": [
    "19.Write a program to show how Numpy taking less memory compared to Python List?"
   ]
  },
  {
   "cell_type": "code",
   "execution_count": 20,
   "metadata": {
    "colab": {
     "base_uri": "https://localhost:8080/"
    },
    "id": "4iClM5w_yM5g",
    "outputId": "a484fb4f-1fa1-4773-a0ca-6f8c6a983733"
   },
   "outputs": [
    {
     "name": "stdout",
     "output_type": "stream",
     "text": [
      "for list: 28000\n",
      "for nparray: 4000\n"
     ]
    },
    {
     "data": {
      "text/plain": [
       "0"
      ]
     },
     "execution_count": 20,
     "metadata": {},
     "output_type": "execute_result"
    }
   ],
   "source": [
    "import sys\n",
    "l=[i for i in range(1000)]\n",
    "print(\"for list:\",sys.getsizeof(10)*len(l))\n",
    "arr=np.arange(1000)\n",
    "print(\"for nparray:\",arr.itemsize*len(arr))\n",
    "arr[0]"
   ]
  },
  {
   "cell_type": "markdown",
   "metadata": {
    "id": "WSw1m3be4Hhp"
   },
   "source": [
    "20. Write a program to show how Numpy taking less time compared to Python List?"
   ]
  },
  {
   "cell_type": "code",
   "execution_count": 21,
   "metadata": {
    "colab": {
     "base_uri": "https://localhost:8080/"
    },
    "id": "vvb2Sl3Z2Jyu",
    "outputId": "2530c72b-571e-4694-a674-38e0812bebee"
   },
   "outputs": [
    {
     "name": "stdout",
     "output_type": "stream",
     "text": [
      "Time taken by Lists to perform multiplication: 0.11074638366699219 seconds\n",
      "Time taken by NumPy Arrays to perform multiplication: 0.0019519329071044922 seconds\n"
     ]
    }
   ],
   "source": [
    "import time\n",
    "\n",
    "size = 1000000  \n",
    "list1 = range(size)\n",
    "list2 = range(size)\n",
    "array1 = np.arange(size)  \n",
    "array2 = np.arange(size)\n",
    "\n",
    "initialTime = time.time()\n",
    "resultantList = [(a * b) for a, b in zip(list1, list2)]\n",
    "print(\"Time taken by Lists to perform multiplication:\",(time.time() - initialTime),\"seconds\")\n",
    "\n",
    "initialTime = time.time()\n",
    "resultantArray = array1 * array2\n",
    "print(\"Time taken by NumPy Arrays to perform multiplication:\",(time.time() - initialTime),\"seconds\")"
   ]
  },
  {
   "cell_type": "code",
   "execution_count": null,
   "metadata": {
    "id": "Ir_BYDEg5Bxk"
   },
   "outputs": [],
   "source": []
  }
 ],
 "metadata": {
  "colab": {
   "collapsed_sections": [],
   "name": "Assignment_4.ipynb",
   "provenance": []
  },
  "kernelspec": {
   "display_name": "Python 3",
   "language": "python",
   "name": "python3"
  },
  "language_info": {
   "codemirror_mode": {
    "name": "ipython",
    "version": 3
   },
   "file_extension": ".py",
   "mimetype": "text/x-python",
   "name": "python",
   "nbconvert_exporter": "python",
   "pygments_lexer": "ipython3",
   "version": "3.7.6"
  }
 },
 "nbformat": 4,
 "nbformat_minor": 1
}
