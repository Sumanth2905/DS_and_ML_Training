{
 "cells": [
  {
   "cell_type": "code",
   "execution_count": null,
   "metadata": {},
   "outputs": [],
   "source": [
    "# Problem on Lists\n",
    "Colors = [\"Yellow\", \"Green\", \"White\", \"Black\"]\n",
    "Fruits = [\"Apple\", \"Papaya\", \"Mango\", \"Orange\"]\n",
    "Animals = [\"Tiger\", \"Lion\", \"Deer\", \"Zebra\"]\n",
    "\n",
    "# A function for printing the category of the user input\n",
    "def fun1():\n",
    "    val=input(\"Enter the input: \")  #  user input\n",
    "    if val in Colors:\n",
    "        print(\"%s belongs to Colors\"%val)\n",
    "        return\n",
    "    if val in Fruits:\n",
    "        print(\"%s belongs to Fruits\"%val)\n",
    "        return\n",
    "    if val in Animals:\n",
    "        print(\"%s belongs to Animals\"%val)\n",
    "        return\n",
    "    else:\n",
    "        print(\"%s doesn't belong to any cateogry\"%val)\n",
    "\n",
    "# A function to check both the input belongs to same category or not. \n",
    "def fun2():\n",
    "    val1, val2 = input(\"Enter two items: \").split()\n",
    "    if val1 in Colors and val2 in Colors:\n",
    "        print(\"Both are Colors\")\n",
    "        return\n",
    "    elif val1 in Fruits and val2 in Fruits:\n",
    "        print(\"Both are Fruits\")\n",
    "        return\n",
    "    elif val1 in Animals and val2 in Animals:\n",
    "        print(\"Both are Animals\")\n",
    "        return\n",
    "    else:\n",
    "        print(\"They don't belong to same category\")\n",
    "\n",
    "print(\"Function for finding the category\")\n",
    "fun1()  #function-call\n",
    "print(\"\\nFunction to check both the input belongs to same category or not\")\n",
    "fun2()  #function-call"
   ]
  },
  {
   "cell_type": "code",
   "execution_count": null,
   "metadata": {},
   "outputs": [],
   "source": [
    "#function for grade evaluation\n",
    "def grade(marks):\n",
    "    if marks<40:\n",
    "        print('Low')\n",
    "    elif marks>60:\n",
    "        print('Good')\n",
    "    else:\n",
    "        print('Normal')\n",
    "\n",
    "marks=int(input('Enter your score: '))  # user input\n",
    "grade(marks)  # function call"
   ]
  },
  {
   "cell_type": "code",
   "execution_count": null,
   "metadata": {},
   "outputs": [],
   "source": [
    "result = [\"Pass\",\"Fail\",\"Fail\",\"Pass\",\"Fail\",\"Pass\",\"Pass\",\"Fail\",\"Fail\",\"Fail\"]  #given list\n",
    "count=0 #counter variable\n",
    "for item in result:\n",
    "    if item is 'Pass':\n",
    "        count += 1\n",
    "print(\"Frequency of Pass in the given list is: \",count)"
   ]
  },
  {
   "cell_type": "code",
   "execution_count": null,
   "metadata": {},
   "outputs": [],
   "source": [
    "for i in range(1,6):\n",
    "    print(\"* \"*i)\n",
    "    print()       \n",
    "for i in range(4,0,-1):\n",
    "    print(\"* \"*i)\n",
    "    print()       \n",
    "# you can comment empty print statemnts to avoid line space between two line"
   ]
  },
  {
   "cell_type": "code",
   "execution_count": null,
   "metadata": {},
   "outputs": [],
   "source": [
    "for val in range(0,50,10):\n",
    "    answer=input('Are you tired? (yes/no)')\n",
    "    if answer == 'yes':\n",
    "        print(\"You didn't finish the race\")\n",
    "        break\n",
    "else:\n",
    "    print('Congratulations you have finished the race!')"
   ]
  },
  {
   "cell_type": "code",
   "execution_count": null,
   "metadata": {},
   "outputs": [],
   "source": [
    "lst=[]\n",
    "for x in range(1500, 2701):\n",
    "    if (x%7==0) and (x%5==0):\n",
    "        lst.append(str(x))\n",
    "print (', '.join(lst))"
   ]
  },
  {
   "cell_type": "code",
   "execution_count": 1,
   "metadata": {},
   "outputs": [
    {
     "name": "stdout",
     "output_type": "stream",
     "text": [
      "121 169 225 289 361 "
     ]
    }
   ],
   "source": [
    "for val in range(10,20):\n",
    "    if ((val*val) % 2 == 0):  \n",
    "        continue\n",
    "    print(val*val,end=' ')"
   ]
  },
  {
   "cell_type": "code",
   "execution_count": null,
   "metadata": {},
   "outputs": [],
   "source": [
    "marks_list = [65, 75, 2100, 95, 83]\n",
    "marks = int(input(\"Enter the marks: \"))\n",
    "try:\n",
    "    index = marks_list.index(marks)\n",
    "    print(\" Score of the test\",index+1)\n",
    "except:\n",
    "    print(\"Inalid score\")"
   ]
  },
  {
   "cell_type": "code",
   "execution_count": null,
   "metadata": {},
   "outputs": [],
   "source": []
  }
 ],
 "metadata": {
  "kernelspec": {
   "display_name": "Python 3",
   "language": "python",
   "name": "python3"
  },
  "language_info": {
   "codemirror_mode": {
    "name": "ipython",
    "version": 3
   },
   "file_extension": ".py",
   "mimetype": "text/x-python",
   "name": "python",
   "nbconvert_exporter": "python",
   "pygments_lexer": "ipython3",
   "version": "3.7.6"
  }
 },
 "nbformat": 4,
 "nbformat_minor": 4
}
